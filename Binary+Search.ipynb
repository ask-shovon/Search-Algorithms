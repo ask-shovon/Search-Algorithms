{
 "cells": [
  {
   "cell_type": "code",
   "execution_count": 3,
   "metadata": {},
   "outputs": [
    {
     "name": "stdout",
     "output_type": "stream",
     "text": [
      "Enter your search item: 1001\n",
      "Search item not found!\n"
     ]
    }
   ],
   "source": [
    "BinaryList = [15, 58, 145, 190, 200, 400, 789, 1000, 1500, 2000]\n",
    "search = int(input(\"Enter your search item: \"))\n",
    "def binarySearch(BinaryList, search):\n",
    "    left, right = 0, len(BinaryList) - 1\n",
    "    while left <= right:\n",
    "        mid = (left + right) // 2\n",
    "        if BinaryList[mid] == search:\n",
    "            return mid\n",
    "        elif BinaryList[mid] > search:\n",
    "            right = mid - 1\n",
    "        else:\n",
    "            left = mid + 1\n",
    "    return -1\n",
    "\n",
    "position = binarySearch(BinaryList, search)\n",
    "if position == -1:\n",
    "    print(\"Search item not found!\")\n",
    "else:\n",
    "    print(\"search item found in %d position\" %int(position + 1))"
   ]
  },
  {
   "cell_type": "code",
   "execution_count": null,
   "metadata": {
    "collapsed": true
   },
   "outputs": [],
   "source": []
  }
 ],
 "metadata": {
  "kernelspec": {
   "display_name": "Python 3",
   "language": "python",
   "name": "python3"
  },
  "language_info": {
   "codemirror_mode": {
    "name": "ipython",
    "version": 3
   },
   "file_extension": ".py",
   "mimetype": "text/x-python",
   "name": "python",
   "nbconvert_exporter": "python",
   "pygments_lexer": "ipython3",
   "version": "3.6.3"
  }
 },
 "nbformat": 4,
 "nbformat_minor": 2
}
