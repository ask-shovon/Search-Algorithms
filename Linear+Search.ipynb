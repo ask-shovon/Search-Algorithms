{
 "cells": [
  {
   "cell_type": "code",
   "execution_count": 3,
   "metadata": {},
   "outputs": [
    {
     "name": "stdout",
     "output_type": "stream",
     "text": [
      "Length of your list: 12\n",
      "13\n",
      "56\n",
      "89\n",
      "18\n",
      "897\n",
      "18\n",
      "69\n",
      "486\n",
      "59\n",
      "566\n",
      "988\n",
      "12\n",
      "Search your item: 486\n",
      "search item found in 8 position\n"
     ]
    }
   ],
   "source": [
    "listLength = int(input(\"Length of your list: \"))\n",
    "listarr = []\n",
    "for i in range(listLength):\n",
    "    item = int(input())\n",
    "    listarr.append(item)\n",
    "search = int(input(\"Search your item: \"))  \n",
    "\n",
    "def linearSearch(listarr, search):\n",
    "    for i in range(len(listarr)):\n",
    "        if listarr[i] == search:\n",
    "            return i\n",
    "    return -1\n",
    "\n",
    "position = linearSearch(listarr, search)\n",
    "\n",
    "if position == -1:\n",
    "    print(\"Search item not found!\")\n",
    "else:\n",
    "    print(\"search item found in %d position\" %int(position + 1))"
   ]
  },
  {
   "cell_type": "code",
   "execution_count": null,
   "metadata": {
    "collapsed": true
   },
   "outputs": [],
   "source": []
  }
 ],
 "metadata": {
  "kernelspec": {
   "display_name": "Python 3",
   "language": "python",
   "name": "python3"
  },
  "language_info": {
   "codemirror_mode": {
    "name": "ipython",
    "version": 3
   },
   "file_extension": ".py",
   "mimetype": "text/x-python",
   "name": "python",
   "nbconvert_exporter": "python",
   "pygments_lexer": "ipython3",
   "version": "3.6.3"
  }
 },
 "nbformat": 4,
 "nbformat_minor": 2
}
